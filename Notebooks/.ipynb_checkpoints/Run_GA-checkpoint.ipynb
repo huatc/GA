{
 "cells": [
  {
   "cell_type": "code",
   "execution_count": 27,
   "id": "b198247e",
   "metadata": {},
   "outputs": [],
   "source": [
    "import numpy as np\n",
    "import sys\n",
    "sys.path.append('../')\n",
    "from genetic_algorithm import GA_functions as GA\n",
    "import matplotlib.pyplot as plt"
   ]
  },
  {
   "cell_type": "markdown",
   "id": "bf3eabe6",
   "metadata": {},
   "source": [
    "## Create an Objective Function"
   ]
  },
  {
   "cell_type": "code",
   "execution_count": 58,
   "id": "e3644dd1",
   "metadata": {},
   "outputs": [],
   "source": [
    "def func(x,y,z,a,b,c): #This will be our objective function \n",
    "    return np.sin(x)*np.cos(3*y)*np.exp(z) - a/(z+0.01) + b**2*c*2\n",
    "\n",
    "def func_loop(x):\n",
    "    for i in range(x.shape[0]): # This is a loop that runs the test function for each row of an array\n",
    "        y_row = func(x[i,0], x[i,1], x[i,2], x[i,3], x[i,4], x[i,5]).reshape(1,-1)\n",
    "        if i == 0:\n",
    "            y = y_row\n",
    "        else:\n",
    "            y = np.vstack((y, y_row))\n",
    "    return y\n",
    "\n",
    "def overall_max(scores): # This creates a list of the cumulative best scores from the scores in a list\n",
    "    all_max = [scores[0]]\n",
    "    for i in range(len(scores)):\n",
    "        if scores[i] > all_max[i]:\n",
    "            all_max.append(scores[i])\n",
    "        else:\n",
    "            all_max.append(all_max[i])\n",
    "    return all_max"
   ]
  },
  {
   "cell_type": "markdown",
   "id": "f49fb09b",
   "metadata": {},
   "source": [
    "## Initialize GA\n",
    "We first need to perform the initial iteration of the genetic algorithm. The variable x will be an array with the initial guess where each row is a guess. The variable y will be the \"score\" of each guess. The objective is to find a guess that maximizes the score."
   ]
  },
  {
   "cell_type": "code",
   "execution_count": 59,
   "id": "72d2d355",
   "metadata": {},
   "outputs": [],
   "source": [
    "batch_size = 10\n",
    "x = np.random.rand(batch_size,6)"
   ]
  },
  {
   "cell_type": "code",
   "execution_count": 60,
   "id": "3d0291e8",
   "metadata": {},
   "outputs": [],
   "source": [
    "y = func_loop(x)"
   ]
  },
  {
   "cell_type": "markdown",
   "id": "110d5bad",
   "metadata": {},
   "source": [
    "## Run GA in a Loop\n",
    "Now we can set the hyperparemters of our genetic algorithm and run it in a loop. A mutation rate closer to 0 will favor exploitation and a mutation rate closer to 1 will favor exploration \n"
   ]
  },
  {
   "cell_type": "code",
   "execution_count": 61,
   "id": "f4e84cc9",
   "metadata": {},
   "outputs": [],
   "source": [
    "mutation_rate = 0.3\n",
    "alg = GA.genetic_algorithm(batch_size, mutation_rate)"
   ]
  },
  {
   "cell_type": "code",
   "execution_count": 62,
   "id": "7d0f22cd",
   "metadata": {
    "scrolled": true
   },
   "outputs": [],
   "source": [
    "iterations = 100\n",
    "for i in range(iterations):\n",
    "    x = alg.run(x,y)\n",
    "    y = func_loop(x)"
   ]
  },
  {
   "cell_type": "markdown",
   "id": "9de11c4a",
   "metadata": {},
   "source": [
    "The highest score is:"
   ]
  },
  {
   "cell_type": "code",
   "execution_count": 63,
   "id": "9595d454",
   "metadata": {},
   "outputs": [
    {
     "data": {
      "text/plain": [
       "4.068404764398666"
      ]
     },
     "execution_count": 63,
     "metadata": {},
     "output_type": "execute_result"
    }
   ],
   "source": [
    "np.max(alg.max_fitness_lst)"
   ]
  },
  {
   "cell_type": "markdown",
   "id": "af4ec1d9",
   "metadata": {},
   "source": [
    "The solution that gave the higest score is:"
   ]
  },
  {
   "cell_type": "code",
   "execution_count": 64,
   "id": "5ca7b7e9",
   "metadata": {},
   "outputs": [
    {
     "data": {
      "text/plain": [
       "array([0.965, 0.034, 0.974, 0.001, 0.987, 0.977])"
      ]
     },
     "execution_count": 64,
     "metadata": {},
     "output_type": "execute_result"
    }
   ],
   "source": [
    "alg.best_solution()"
   ]
  },
  {
   "cell_type": "markdown",
   "id": "39d7ff51",
   "metadata": {},
   "source": [
    "## Random Sampling\n",
    "To compare the performance of our genetic algorithm we can test it against random sampling"
   ]
  },
  {
   "cell_type": "code",
   "execution_count": 65,
   "id": "19b040de",
   "metadata": {},
   "outputs": [],
   "source": [
    "rand_lst = []\n",
    "for i in range(iterations):\n",
    "    x = np.random.rand(batch_size,6)\n",
    "    y = func_loop(x)\n",
    "    rand_lst.append(np.max(y))"
   ]
  },
  {
   "cell_type": "code",
   "execution_count": 66,
   "id": "6ce700eb",
   "metadata": {},
   "outputs": [
    {
     "data": {
      "text/plain": [
       "2.429834875693949"
      ]
     },
     "execution_count": 66,
     "metadata": {},
     "output_type": "execute_result"
    }
   ],
   "source": [
    "np.max(rand_lst)"
   ]
  },
  {
   "cell_type": "markdown",
   "id": "e3bc84fe",
   "metadata": {},
   "source": [
    "## Compare Performances "
   ]
  },
  {
   "cell_type": "code",
   "execution_count": 67,
   "id": "91780256",
   "metadata": {},
   "outputs": [
    {
     "data": {
      "image/png": "[encoded data removed]",
      "text/plain": [
       "<Figure size 432x288 with 1 Axes>"
      ]
     },
     "metadata": {
      "needs_background": "light"
     },
     "output_type": "display_data"
    }
   ],
   "source": [
    "plt.plot(overall_max(rand_lst), label = 'Random')\n",
    "plt.plot(overall_max(alg.max_fitness_lst), label = 'GA')\n",
    "plt.legend()\n",
    "plt.title('Overall Best Score')\n",
    "plt.xlabel('Iteration')\n",
    "plt.ylabel('Score')\n",
    "plt.show()"
   ]
  },
  {
   "cell_type": "code",
   "execution_count": null,
   "id": "4be3893c",
   "metadata": {},
   "outputs": [],
   "source": []
  }
 ],
 "metadata": {
  "kernelspec": {
   "display_name": "Python 3 (ipykernel)",
   "language": "python",
   "name": "python3"
  },
  "language_info": {
   "codemirror_mode": {
    "name": "ipython",
    "version": 3
   },
   "file_extension": ".py",
   "mimetype": "text/x-python",
   "name": "python",
   "nbconvert_exporter": "python",
   "pygments_lexer": "ipython3",
   "version": "3.9.7"
  }
 },
 "nbformat": 4,
 "nbformat_minor": 5
}
