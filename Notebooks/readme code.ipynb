{
 "cells": [
  {
   "cell_type": "markdown",
   "id": "b3845269",
   "metadata": {},
   "source": [
    "## Description \n",
    "\n",
    "This package contains code to run a genetic algorithm. Because the algorithm is computationally inexpensive, it is useful for optimizations where the objective function can be queried many times such as hyperparameter tuning or fitting a model. This genetic algorithm contains four steps:\n",
    "\n",
    "<img src=\"../Images/GA.jpg\" width=\"350\" height=\"350\">\n",
    "\n",
    "- **Evaluation:** Sorting the candidates based on their fitness score\n",
    "- **Selection:** Selecting the candidates that are passed to the next round according to their fitness score. This algorithm uses a roulette wheel approach, where the probability of being selected is proportional to the candidate's fitness\n",
    "- **Crossover:** The information from two candidates that were selected from the previous step are randomly shuffled between each other to form \"offspring\" candidates \n",
    "- **Mutation:** A random change in the offspring candidates is introduced which is controlled by a hyperparameter. A mutation rate closer to 0 will favor exploitation and a mutation rate closer to 1 will favor exploration \n",
    "\n",
    "### Instructions\n",
    "\n",
    "The best way to use this algorithm is to open the jupyter notebook called Run_GA.ipynb and follow the example given in the notebook.\n"
   ]
  }
 ],
 "metadata": {
  "kernelspec": {
   "display_name": "Python 3 (ipykernel)",
   "language": "python",
   "name": "python3"
  },
  "language_info": {
   "codemirror_mode": {
    "name": "ipython",
    "version": 3
   },
   "file_extension": ".py",
   "mimetype": "text/x-python",
   "name": "python",
   "nbconvert_exporter": "python",
   "pygments_lexer": "ipython3",
   "version": "3.9.7"
  }
 },
 "nbformat": 4,
 "nbformat_minor": 5
}
